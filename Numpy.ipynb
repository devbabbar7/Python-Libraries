{
  "nbformat": 4,
  "nbformat_minor": 0,
  "metadata": {
    "colab": {
      "provenance": [],
      "authorship_tag": "ABX9TyPQXYFO+Jcwvy93ophgOqvj",
      "include_colab_link": true
    },
    "kernelspec": {
      "name": "python3",
      "display_name": "Python 3"
    },
    "language_info": {
      "name": "python"
    }
  },
  "cells": [
    {
      "cell_type": "markdown",
      "metadata": {
        "id": "view-in-github",
        "colab_type": "text"
      },
      "source": [
        "<a href=\"https://colab.research.google.com/github/devbabbar7/Python-Libraries/blob/main/Numpy.ipynb\" target=\"_parent\"><img src=\"https://colab.research.google.com/assets/colab-badge.svg\" alt=\"Open In Colab\"/></a>"
      ]
    },
    {
      "cell_type": "markdown",
      "source": [
        "## Numpy"
      ],
      "metadata": {
        "id": "HCDl1dvsiETz"
      }
    },
    {
      "cell_type": "code",
      "source": [
        "import numpy as np\n",
        "#Returns array within a range with stride\n",
        "arr = np.arange(10,15,2)\n",
        "print(arr)\n",
        "\n",
        "# linspace creates n equidistant values between [a,b] (inclusive)\n",
        "line = np.linspace(0,10,5)\n",
        "print(line)"
      ],
      "metadata": {
        "colab": {
          "base_uri": "https://localhost:8080/"
        },
        "id": "b3-CsF0WW3vK",
        "outputId": "7cd3f664-bc62-4640-ce4e-9dbe1b79127d"
      },
      "execution_count": 10,
      "outputs": [
        {
          "output_type": "stream",
          "name": "stdout",
          "text": [
            "[10 12 14]\n",
            "[ 0.   2.5  5.   7.5 10. ]\n"
          ]
        }
      ]
    },
    {
      "cell_type": "code",
      "source": [
        "arr2 = np.array([21,31,11,0,34,34])\n",
        "print('Max element',max(arr2))\n",
        "print('Index of the max value', arr2.argmax())\n",
        "print('Index of the min value',arr2.argmin())\n",
        "print('Sort and return indexes',arr2.argsort())"
      ],
      "metadata": {
        "colab": {
          "base_uri": "https://localhost:8080/"
        },
        "id": "icuM7N0Udwzs",
        "outputId": "a99c80f2-dc20-42f3-bbd7-3cc8c352028f"
      },
      "execution_count": 11,
      "outputs": [
        {
          "output_type": "stream",
          "name": "stdout",
          "text": [
            "Max element 34\n",
            "Index of the max value 4\n",
            "Index of the min value 3\n",
            "Sort and return indexes [3 2 0 1 4 5]\n"
          ]
        }
      ]
    },
    {
      "cell_type": "code",
      "source": [
        "intvar = np.array([1,2,3,4], np.int8)\n",
        "intvar2 = np.array([1,2,3,4], dtype = 'int16')\n",
        "intvar3 = np.array([1,2,3,4], dtype = 'int')\n",
        "print(intvar)\n",
        "print(intvar2)\n",
        "print(intvar3)"
      ],
      "metadata": {
        "colab": {
          "base_uri": "https://localhost:8080/"
        },
        "id": "oqvhpETahkak",
        "outputId": "8e19ba8d-8429-46f5-fc73-3b9ce7603886"
      },
      "execution_count": 12,
      "outputs": [
        {
          "output_type": "stream",
          "name": "stdout",
          "text": [
            "[1 2 3 4]\n",
            "[1 2 3 4]\n",
            "[1 2 3 4]\n"
          ]
        }
      ]
    },
    {
      "cell_type": "code",
      "source": [
        "# shapearr = np.array([[10,11,12,13,14],[2,3]], dtype = 'int') is invalid because the size has to stay the same\n",
        "shapearr = np.array([[10,11,12,13,14],[2,3,4,5,6],[10,9,8,7,6]], dtype = 'int')\n",
        "print('Array:\\n', shapearr)\n",
        "print('Type:',type(shapearr))\n",
        "print('Dimensions:', shapearr.ndim)\n",
        "print('Shape:', shapearr.shape)\n",
        "print('Size:', shapearr.size)\n",
        "print('Size in bytes:', shapearr.nbytes)\n",
        "print('Sum of x axis:', shapearr.sum(axis=0))\n",
        "print('Sum of y axis:', shapearr.sum(axis=1))\n",
        "print('Sum of entire array:', shapearr.sum())\n",
        "print('Transpose of arr:\\n',shapearr.T)\n",
        "#Ravel converts every array to 1d array like flatten\n",
        "print('Flatten array using ravel:',shapearr.ravel())\n",
        "print('Filter values:', np.where(shapearr.ravel()>5))\n",
        "print('Number of non-zero elements:', np.count_nonzero(shapearr))\n",
        "print('Reshape:\\n',shapearr.reshape(5,-1))\n",
        "print('Max element:', shapearr.max())\n",
        "print('Min element:', shapearr.min())"
      ],
      "metadata": {
        "colab": {
          "base_uri": "https://localhost:8080/"
        },
        "id": "dFOpP_fFjOwh",
        "outputId": "e3dd2ffe-e3d9-4b88-c597-005c35269fe7"
      },
      "execution_count": 23,
      "outputs": [
        {
          "output_type": "stream",
          "name": "stdout",
          "text": [
            "Array:\n",
            " [[10 11 12 13 14]\n",
            " [ 2  3  4  5  6]\n",
            " [10  9  8  7  6]]\n",
            "Type: <class 'numpy.ndarray'>\n",
            "Dimensions: 2\n",
            "Shape: (3, 5)\n",
            "Size: 15\n",
            "Size in bytes: 120\n",
            "Sum of x axis: [22 23 24 25 26]\n",
            "Sum of y axis: [60 20 40]\n",
            "Sum of entire array: 120\n",
            "Transpose of arr:\n",
            " [[10  2 10]\n",
            " [11  3  9]\n",
            " [12  4  8]\n",
            " [13  5  7]\n",
            " [14  6  6]]\n",
            "Flatten array using ravel: [10 11 12 13 14  2  3  4  5  6 10  9  8  7  6]\n",
            "Filter values: (array([ 0,  1,  2,  3,  4,  9, 10, 11, 12, 13, 14]),)\n",
            "Number of non-zero elements: 15\n",
            "Reshape:\n",
            " [[10 11 12]\n",
            " [13 14  2]\n",
            " [ 3  4  5]\n",
            " [ 6 10  9]\n",
            " [ 8  7  6]]\n",
            "Max element: 14\n",
            "Min element: 2\n"
          ]
        }
      ]
    },
    {
      "cell_type": "code",
      "source": [
        "# flat is like an iterator\n",
        "flatx = shapearr.flat\n",
        "print(flatx)\n",
        "for item in flatx:\n",
        "  print(item)"
      ],
      "metadata": {
        "colab": {
          "base_uri": "https://localhost:8080/"
        },
        "id": "7MJKHeebvVjz",
        "outputId": "0d25f0f2-5c8a-4411-d705-4635d0202dc6"
      },
      "execution_count": 14,
      "outputs": [
        {
          "output_type": "stream",
          "name": "stdout",
          "text": [
            "<numpy.flatiter object at 0x34aadd0>\n",
            "10\n",
            "11\n",
            "12\n",
            "13\n",
            "14\n",
            "2\n",
            "3\n",
            "4\n",
            "5\n",
            "6\n",
            "10\n",
            "9\n",
            "8\n",
            "7\n",
            "6\n"
          ]
        }
      ]
    },
    {
      "cell_type": "code",
      "source": [
        "# A 4x6 matrix with random values\n",
        "emp = np.empty((4,6))\n",
        "emp"
      ],
      "metadata": {
        "colab": {
          "base_uri": "https://localhost:8080/"
        },
        "id": "gDoz8kwKjbmK",
        "outputId": "d8bf6780-c2e1-4df3-c27a-54d400eaebca"
      },
      "execution_count": 15,
      "outputs": [
        {
          "output_type": "execute_result",
          "data": {
            "text/plain": [
              "array([[-0.25, -0.5 ,  0.  , -0.25,  0.25, -0.5 ],\n",
              "       [ 0.5 , -0.25,  0.25,  0.  ,  0.5 ,  0.25],\n",
              "       [ 0.25,  0.5 ,  0.  ,  0.25, -0.25,  0.5 ],\n",
              "       [-0.5 ,  0.25, -0.25,  0.  , -0.5 , -0.25]])"
            ]
          },
          "metadata": {},
          "execution_count": 15
        }
      ]
    },
    {
      "cell_type": "code",
      "source": [
        "#Return a new array with the same shape and type as a given array\n",
        "emp_like = np.empty_like(emp)\n",
        "emp_like"
      ],
      "metadata": {
        "colab": {
          "base_uri": "https://localhost:8080/"
        },
        "id": "Zx1sKlmalFOi",
        "outputId": "6db31f70-0681-4e40-e261-a15edd6e47a2"
      },
      "execution_count": 16,
      "outputs": [
        {
          "output_type": "execute_result",
          "data": {
            "text/plain": [
              "array([[-0.25, -0.5 ,  0.  , -0.25,  0.25, -0.5 ],\n",
              "       [ 0.5 , -0.25,  0.25,  0.  ,  0.5 ,  0.25],\n",
              "       [ 0.25,  0.5 ,  0.  ,  0.25, -0.25,  0.5 ],\n",
              "       [-0.5 ,  0.25, -0.25,  0.  , -0.5 , -0.25]])"
            ]
          },
          "metadata": {},
          "execution_count": 16
        }
      ]
    },
    {
      "cell_type": "code",
      "source": [
        "ide2 = np.identity(4)\n",
        "ide2"
      ],
      "metadata": {
        "colab": {
          "base_uri": "https://localhost:8080/"
        },
        "id": "m_YYdb5hqWAJ",
        "outputId": "582c1f9f-674a-4fa7-d60a-9eb27c2fe4ca"
      },
      "execution_count": 17,
      "outputs": [
        {
          "output_type": "execute_result",
          "data": {
            "text/plain": [
              "array([[1., 0., 0., 0.],\n",
              "       [0., 1., 0., 0.],\n",
              "       [0., 0., 1., 0.],\n",
              "       [0., 0., 0., 1.]])"
            ]
          },
          "metadata": {},
          "execution_count": 17
        }
      ]
    },
    {
      "cell_type": "code",
      "source": [
        "arr1 = np.array([1,2,3,4,5],dtype = 'int')\n",
        "arr2 = np.array([6,7,8,9,10], dtype = 'int')\n",
        "print(arr1+arr2)\n",
        "print(arr2-arr1)\n",
        "print(arr1*arr2)\n",
        "print(arr1/arr2)\n",
        "print(np.sqrt(arr2))\n",
        "print(np.log(arr2))\n",
        "print(np.log10(arr2))"
      ],
      "metadata": {
        "colab": {
          "base_uri": "https://localhost:8080/"
        },
        "id": "V_SIq6Marx_a",
        "outputId": "99abf831-6db3-46cd-d938-140f5cc9501a"
      },
      "execution_count": 20,
      "outputs": [
        {
          "output_type": "stream",
          "name": "stdout",
          "text": [
            "[ 7  9 11 13 15]\n",
            "[5 5 5 5 5]\n",
            "[ 6 14 24 36 50]\n",
            "[0.16666667 0.28571429 0.375      0.44444444 0.5       ]\n",
            "[2.44948974 2.64575131 2.82842712 3.         3.16227766]\n",
            "[1.79175947 1.94591015 2.07944154 2.19722458 2.30258509]\n",
            "[0.77815125 0.84509804 0.90308999 0.95424251 1.        ]\n"
          ]
        }
      ]
    },
    {
      "cell_type": "code",
      "source": [],
      "metadata": {
        "id": "rpgc4zpR8vud"
      },
      "execution_count": null,
      "outputs": []
    }
  ]
}